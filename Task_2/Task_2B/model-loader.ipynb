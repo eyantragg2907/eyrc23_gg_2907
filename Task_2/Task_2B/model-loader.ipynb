{
 "cells": [
  {
   "cell_type": "markdown",
   "metadata": {},
   "source": [
    "File to test loading of model"
   ]
  },
  {
   "cell_type": "code",
   "execution_count": 64,
   "metadata": {},
   "outputs": [],
   "source": [
    "import tensorflow as tf\n",
    "import numpy as np\n",
    "import os"
   ]
  },
  {
   "cell_type": "code",
   "execution_count": 65,
   "metadata": {},
   "outputs": [],
   "source": [
    "classmap = [\"combat\", \"building\", \"fire\", \"rehab\", \"military\"]\n",
    "imagefolder = \"test\"\n",
    "modelpath = \"models/modelB_299.h5\""
   ]
  },
  {
   "cell_type": "code",
   "execution_count": 66,
   "metadata": {},
   "outputs": [
    {
     "name": "stdout",
     "output_type": "stream",
     "text": [
      "WARNING:tensorflow:Error in loading the saved optimizer state. As a result, your model is starting with a freshly initialized optimizer.\n"
     ]
    }
   ],
   "source": [
    "model = tf.keras.models.load_model(modelpath)"
   ]
  },
  {
   "cell_type": "code",
   "execution_count": 67,
   "metadata": {},
   "outputs": [],
   "source": [
    "imgarr = []\n",
    "imgclassarr = []\n",
    "for image in os.listdir(imagefolder):\n",
    "    image = os.path.join(imagefolder, image)\n",
    "    img = tf.keras.preprocessing.image.load_img(image, target_size=(299, 299))\n",
    "    img = np.array(img, dtype=np.float32)\n",
    "    img = tf.expand_dims(img, axis=0)\n",
    "    img = tf.keras.applications.inception_v3.preprocess_input(img)\n",
    "    imgarr.append(img)\n",
    "    cls = image.split(\"/\")[1].split(\".\")[0][:-1]\n",
    "    imgclassarr.append(classmap.index(cls))"
   ]
  },
  {
   "cell_type": "code",
   "execution_count": 68,
   "metadata": {},
   "outputs": [],
   "source": [
    "imgarr, imgclassarr = np.array(imgarr), np.array(imgclassarr)"
   ]
  },
  {
   "cell_type": "code",
   "execution_count": 69,
   "metadata": {},
   "outputs": [
    {
     "name": "stdout",
     "output_type": "stream",
     "text": [
      "1/1 [==============================] - 1s 1s/step\n",
      "1/1 [==============================] - 0s 88ms/step\n",
      "1/1 [==============================] - 0s 33ms/step\n",
      "1/1 [==============================] - 0s 45ms/step\n",
      "1/1 [==============================] - 0s 33ms/step\n",
      "1/1 [==============================] - 0s 33ms/step\n",
      "1/1 [==============================] - 0s 31ms/step\n",
      "1/1 [==============================] - 0s 32ms/step\n",
      "1/1 [==============================] - 0s 33ms/step\n",
      "1/1 [==============================] - 0s 31ms/step\n"
     ]
    }
   ],
   "source": [
    "pred = []\n",
    "for img in imgarr:\n",
    "    predictions = model.predict(img)\n",
    "    predicted_class = np.argmax(predictions[0], axis=-1)\n",
    "    pred.append(predicted_class)\n"
   ]
  },
  {
   "cell_type": "code",
   "execution_count": 70,
   "metadata": {},
   "outputs": [
    {
     "name": "stdout",
     "output_type": "stream",
     "text": [
      "Accuracy: 90.0%\n"
     ]
    }
   ],
   "source": [
    "correct, total = 0, 0\n",
    "for i in range(len(pred)):\n",
    "    correct += (pred[i] == imgclassarr[i])\n",
    "\n",
    "percent = correct / len(pred) * 100\n",
    "print(\"Accuracy: {}%\".format(percent))"
   ]
  }
 ],
 "metadata": {
  "kernelspec": {
   "display_name": "GG_2907",
   "language": "python",
   "name": "python3"
  },
  "language_info": {
   "codemirror_mode": {
    "name": "ipython",
    "version": 3
   },
   "file_extension": ".py",
   "mimetype": "text/x-python",
   "name": "python",
   "nbconvert_exporter": "python",
   "pygments_lexer": "ipython3",
   "version": "3.9.18"
  }
 },
 "nbformat": 4,
 "nbformat_minor": 2
}
