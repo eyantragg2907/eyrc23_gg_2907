{
 "cells": [
  {
   "cell_type": "markdown",
   "metadata": {},
   "source": [
    "# MODEL C: 299x299 model"
   ]
  },
  {
   "cell_type": "code",
   "execution_count": 1,
   "metadata": {},
   "outputs": [],
   "source": [
    "import tensorflow as tf\n",
    "from tensorflow.keras.preprocessing.image import ImageDataGenerator\n",
    "import os"
   ]
  },
  {
   "cell_type": "code",
   "execution_count": 2,
   "metadata": {},
   "outputs": [
    {
     "name": "stdout",
     "output_type": "stream",
     "text": [
      "Found 400 images belonging to 5 classes.\n"
     ]
    }
   ],
   "source": [
    "datagen = ImageDataGenerator(rescale = .1/255, rotation_range = 40, width_shift_range=0.2, height_shift_range=0.2, shear_range=0.2, zoom_range=0.2, horizontal_flip=True)\n",
    "\n",
    "train_generator = datagen.flow_from_directory(\n",
    "    'train_og',\n",
    "    target_size=(299, 299),\n",
    "    class_mode='categorical',\n",
    "    batch_size=400  # Set batch size to match the total number of images\n",
    ")"
   ]
  },
  {
   "cell_type": "code",
   "execution_count": 3,
   "metadata": {},
   "outputs": [
    {
     "name": "stderr",
     "output_type": "stream",
     "text": [
      "2023-10-20 18:37:57.723110: I metal_plugin/src/device/metal_device.cc:1154] Metal device set to: Apple M1 Pro\n",
      "2023-10-20 18:37:57.723149: I metal_plugin/src/device/metal_device.cc:296] systemMemory: 16.00 GB\n",
      "2023-10-20 18:37:57.723159: I metal_plugin/src/device/metal_device.cc:313] maxCacheSize: 5.33 GB\n",
      "2023-10-20 18:37:57.723386: I tensorflow/core/common_runtime/pluggable_device/pluggable_device_factory.cc:306] Could not identify NUMA node of platform GPU ID 0, defaulting to 0. Your kernel may not have been built with NUMA support.\n",
      "2023-10-20 18:37:57.723594: I tensorflow/core/common_runtime/pluggable_device/pluggable_device_factory.cc:272] Created TensorFlow device (/job:localhost/replica:0/task:0/device:GPU:0 with 0 MB memory) -> physical PluggableDevice (device: 0, name: METAL, pci bus id: <undefined>)\n"
     ]
    }
   ],
   "source": [
    "\n",
    "model = tf.keras.applications.InceptionV3(input_shape=(299, 299, 3), weights='imagenet', include_top=False)\n",
    "\n",
    "\n",
    "# ACTUALLY C WAS UN FROZEN SO NOW WE FREEZING AND MAKING IT FROZEN SO WE CALLING IT C2\n",
    "# Freeze the weights of all the layers except for the last one\n",
    "for layer in model.layers[:-1]:\n",
    "    layer.trainable = False\n",
    "\n",
    "# Add a new output layer\n",
    "x = tf.keras.layers.Flatten()(model.output)\n",
    "x = tf.keras.layers.Dense(128,\"relu\")(x)\n",
    "x = tf.keras.layers.Dense(5, \"softmax\")(x)\n",
    "\n",
    "# Compile the model\n",
    "model = tf.keras.Model(model.input, x)\n",
    "model.compile(optimizer='adam', loss='categorical_crossentropy', metrics=['accuracy'])"
   ]
  },
  {
   "cell_type": "code",
   "execution_count": 4,
   "metadata": {},
   "outputs": [],
   "source": [
    "checkpoint_path = \"checkpoints/modelC2_299.ckpt\"\n",
    "checkpoint_dir = os.path.dirname(checkpoint_path)\n",
    "cp_callback = tf.keras.callbacks.ModelCheckpoint(filepath=checkpoint_path,\n",
    "                                                 save_weights_only=True,\n",
    "                                                 verbose=1)\n"
   ]
  },
  {
   "cell_type": "code",
   "execution_count": 5,
   "metadata": {},
   "outputs": [
    {
     "name": "stdout",
     "output_type": "stream",
     "text": [
      "Epoch 1/30\n"
     ]
    },
    {
     "name": "stderr",
     "output_type": "stream",
     "text": [
      "2023-10-20 18:21:23.896852: I tensorflow/core/grappler/optimizers/custom_graph_optimizer_registry.cc:117] Plugin optimizer for device_type GPU is enabled.\n"
     ]
    },
    {
     "name": "stdout",
     "output_type": "stream",
     "text": [
      "1/1 [==============================] - ETA: 0s - loss: 2.0300 - accuracy: 0.2025\n",
      "Epoch 1: saving model to checkpoints/modelC_299.ckpt\n",
      "1/1 [==============================] - 94s 94s/step - loss: 2.0300 - accuracy: 0.2025\n",
      "Epoch 2/30\n",
      "1/1 [==============================] - ETA: 0s - loss: 185.4175 - accuracy: 0.2025\n",
      "Epoch 2: saving model to checkpoints/modelC_299.ckpt\n",
      "1/1 [==============================] - 73s 73s/step - loss: 185.4175 - accuracy: 0.2025\n",
      "Epoch 3/30\n",
      "1/1 [==============================] - ETA: 0s - loss: 62.0022 - accuracy: 0.2000\n",
      "Epoch 3: saving model to checkpoints/modelC_299.ckpt\n",
      "1/1 [==============================] - 71s 71s/step - loss: 62.0022 - accuracy: 0.2000\n",
      "Epoch 4/30\n",
      "1/1 [==============================] - ETA: 0s - loss: 7.4851 - accuracy: 0.2000\n",
      "Epoch 4: saving model to checkpoints/modelC_299.ckpt\n",
      "1/1 [==============================] - 69s 69s/step - loss: 7.4851 - accuracy: 0.2000\n",
      "Epoch 5/30\n",
      "1/1 [==============================] - ETA: 0s - loss: 4.3551 - accuracy: 0.2000\n",
      "Epoch 5: saving model to checkpoints/modelC_299.ckpt\n",
      "1/1 [==============================] - 69s 69s/step - loss: 4.3551 - accuracy: 0.2000\n",
      "Epoch 6/30\n",
      "1/1 [==============================] - ETA: 0s - loss: 3.9499 - accuracy: 0.2000\n",
      "Epoch 6: saving model to checkpoints/modelC_299.ckpt\n",
      "1/1 [==============================] - 74s 74s/step - loss: 3.9499 - accuracy: 0.2000\n",
      "Epoch 7/30\n",
      "1/1 [==============================] - ETA: 0s - loss: 5.8847 - accuracy: 0.1975\n",
      "Epoch 7: saving model to checkpoints/modelC_299.ckpt\n",
      "1/1 [==============================] - 75s 75s/step - loss: 5.8847 - accuracy: 0.1975\n",
      "Epoch 8/30\n",
      "1/1 [==============================] - ETA: 0s - loss: 3.3067 - accuracy: 0.3375\n",
      "Epoch 8: saving model to checkpoints/modelC_299.ckpt\n",
      "1/1 [==============================] - 71s 71s/step - loss: 3.3067 - accuracy: 0.3375\n",
      "Epoch 9/30\n",
      "1/1 [==============================] - ETA: 0s - loss: 2.9594 - accuracy: 0.2425\n",
      "Epoch 9: saving model to checkpoints/modelC_299.ckpt\n",
      "1/1 [==============================] - 68s 68s/step - loss: 2.9594 - accuracy: 0.2425\n",
      "Epoch 10/30\n",
      "1/1 [==============================] - ETA: 0s - loss: 2.6907 - accuracy: 0.2125\n",
      "Epoch 10: saving model to checkpoints/modelC_299.ckpt\n",
      "1/1 [==============================] - 68s 68s/step - loss: 2.6907 - accuracy: 0.2125\n",
      "Epoch 11/30\n",
      "1/1 [==============================] - ETA: 0s - loss: 3.0801 - accuracy: 0.2150\n",
      "Epoch 11: saving model to checkpoints/modelC_299.ckpt\n",
      "1/1 [==============================] - 68s 68s/step - loss: 3.0801 - accuracy: 0.2150\n",
      "Epoch 12/30\n",
      "1/1 [==============================] - ETA: 0s - loss: 2.2406 - accuracy: 0.2150\n",
      "Epoch 12: saving model to checkpoints/modelC_299.ckpt\n",
      "1/1 [==============================] - 68s 68s/step - loss: 2.2406 - accuracy: 0.2150\n",
      "Epoch 13/30\n",
      "1/1 [==============================] - ETA: 0s - loss: 2.8283 - accuracy: 0.2025\n",
      "Epoch 13: saving model to checkpoints/modelC_299.ckpt\n",
      "1/1 [==============================] - 67s 67s/step - loss: 2.8283 - accuracy: 0.2025\n",
      "Epoch 14/30\n"
     ]
    }
   ],
   "source": [
    "# Train the model\n",
    "# TODO: add checkpointing\n",
    "model.fit(train_generator, epochs=30,  callbacks=[cp_callback])"
   ]
  },
  {
   "cell_type": "code",
   "execution_count": 5,
   "metadata": {},
   "outputs": [
    {
     "name": "stderr",
     "output_type": "stream",
     "text": [
      "/opt/homebrew/Caskroom/miniconda/base/envs/GG_2907/lib/python3.9/site-packages/keras/src/engine/training.py:3079: UserWarning: You are saving your model as an HDF5 file via `model.save()`. This file format is considered legacy. We recommend using instead the native Keras format, e.g. `model.save('my_model.keras')`.\n",
      "  saving_api.save_model(\n"
     ]
    }
   ],
   "source": [
    "model.save(\"models/modelC2_299.h5\")"
   ]
  },
  {
   "cell_type": "code",
   "execution_count": null,
   "metadata": {},
   "outputs": [],
   "source": []
  }
 ],
 "metadata": {
  "kernelspec": {
   "display_name": "GG_2907",
   "language": "python",
   "name": "python3"
  },
  "language_info": {
   "codemirror_mode": {
    "name": "ipython",
    "version": 3
   },
   "file_extension": ".py",
   "mimetype": "text/x-python",
   "name": "python",
   "nbconvert_exporter": "python",
   "pygments_lexer": "ipython3",
   "version": "3.9.18"
  }
 },
 "nbformat": 4,
 "nbformat_minor": 2
}
