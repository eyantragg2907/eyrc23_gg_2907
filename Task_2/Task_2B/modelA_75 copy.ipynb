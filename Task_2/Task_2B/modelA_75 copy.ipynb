{
 "cells": [
  {
   "cell_type": "markdown",
   "metadata": {},
   "source": [
    "# MODEL C: 299x299 model"
   ]
  },
  {
   "cell_type": "code",
   "execution_count": 7,
   "metadata": {},
   "outputs": [],
   "source": [
    "import tensorflow as tf\n",
    "from tensorflow.keras.preprocessing.image import ImageDataGenerator\n",
    "import os"
   ]
  },
  {
   "cell_type": "code",
   "execution_count": 8,
   "metadata": {},
   "outputs": [
    {
     "name": "stdout",
     "output_type": "stream",
     "text": [
      "Found 400 images belonging to 5 classes.\n"
     ]
    }
   ],
   "source": [
    "datagen = ImageDataGenerator(rescale = .1/255, rotation_range = 40, width_shift_range=0.2, height_shift_range=0.2, shear_range=0.2, zoom_range=0.2, horizontal_flip=True)\n",
    "\n",
    "train_generator = datagen.flow_from_directory(\n",
    "    'train_og',\n",
    "    target_size=(299, 299),\n",
    "    class_mode='categorical',\n",
    "    batch_size=400  # Set batch size to match the total number of images\n",
    ")"
   ]
  },
  {
   "cell_type": "code",
   "execution_count": 9,
   "metadata": {},
   "outputs": [],
   "source": [
    "\n",
    "model = tf.keras.applications.InceptionV3(input_shape=(299, 299, 3), weights='imagenet', include_top=False)\n",
    "\n",
    "# # Freeze the weights of all the layers except for the last one\n",
    "# for layer in model.layers[:-1]:\n",
    "#     layer.trainable = False\n",
    "\n",
    "# Add a new output layer\n",
    "x = tf.keras.layers.Flatten()(model.output)\n",
    "x = tf.keras.layers.Dense(128,\"relu\")(x)\n",
    "x = tf.keras.layers.Dense(5, \"softmax\")(x)\n",
    "\n",
    "# Compile the model\n",
    "model = tf.keras.Model(model.input, x)\n",
    "model.compile(optimizer='adam', loss='categorical_crossentropy', metrics=['accuracy'])"
   ]
  },
  {
   "cell_type": "code",
   "execution_count": 10,
   "metadata": {},
   "outputs": [],
   "source": [
    "checkpoint_path = \"checkpoints/modelC_299.ckpt\"\n",
    "checkpoint_dir = os.path.dirname(checkpoint_path)\n",
    "cp_callback = tf.keras.callbacks.ModelCheckpoint(filepath=checkpoint_path,\n",
    "                                                 save_weights_only=True,\n",
    "                                                 verbose=1)\n"
   ]
  },
  {
   "cell_type": "code",
   "execution_count": null,
   "metadata": {},
   "outputs": [],
   "source": [
    "# Train the model\n",
    "# TODO: add checkpointing\n",
    "model.fit_generator(train_generator, epochs=30,  callbacks=[cp_callback])"
   ]
  },
  {
   "cell_type": "code",
   "execution_count": null,
   "metadata": {},
   "outputs": [],
   "source": [
    "model.save(\"models/modelA_75.h5\")"
   ]
  }
 ],
 "metadata": {
  "kernelspec": {
   "display_name": "GG_2907",
   "language": "python",
   "name": "python3"
  },
  "language_info": {
   "codemirror_mode": {
    "name": "ipython",
    "version": 3
   },
   "file_extension": ".py",
   "mimetype": "text/x-python",
   "name": "python",
   "nbconvert_exporter": "python",
   "pygments_lexer": "ipython3",
   "version": "3.9.18"
  }
 },
 "nbformat": 4,
 "nbformat_minor": 2
}
